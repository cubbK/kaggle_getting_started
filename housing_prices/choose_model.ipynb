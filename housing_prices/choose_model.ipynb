{
 "cells": [
  {
   "cell_type": "code",
   "execution_count": 43,
   "id": "db384844",
   "metadata": {},
   "outputs": [],
   "source": [
    "import pandas as pd\n",
    "\n",
    "df = pd.read_csv('data/train.csv')"
   ]
  },
  {
   "cell_type": "markdown",
   "id": "ac5ed2b0",
   "metadata": {},
   "source": [
    "Let's clean our data"
   ]
  },
  {
   "cell_type": "code",
   "execution_count": 44,
   "id": "192107f0",
   "metadata": {},
   "outputs": [],
   "source": [
    "import pandas as pd\n",
    "import numpy as np\n",
    "from sklearn.compose import ColumnTransformer\n",
    "from sklearn.preprocessing import OneHotEncoder\n",
    "\n",
    "df = pd.read_csv('data/train.csv')\n",
    "\n",
    "# Separate features and target\n",
    "X = df.drop('SalePrice', axis=1)  # assuming 'SalePrice' is your target\n",
    "y = df['SalePrice']\n",
    "\n",
    "# Get categorical columns from features only\n",
    "categorical_cols = X.select_dtypes(include=['object']).columns.tolist()\n",
    "\n",
    "# Handle missing values first\n",
    "X_clean = X.copy()\n",
    "# for col in categorical_cols:\n",
    "#     X_clean[col] = X_clean[col].fillna('Missing')\n",
    "\n",
    "# Fill numeric missing values\n",
    "numeric_cols = X_clean.select_dtypes(include=[np.number]).columns.tolist()\n",
    "for col in numeric_cols:\n",
    "    X_clean[col] = X_clean[col].fillna(X_clean[col].median())\n",
    "\n",
    "preprocessor = ColumnTransformer(\n",
    "    transformers=[\n",
    "        ('cat', OneHotEncoder(handle_unknown='ignore', sparse_output=False), categorical_cols)\n",
    "    ],\n",
    "    remainder='passthrough'  # keep other (non-categorical) columns\n",
    ")\n",
    "\n",
    "transformed = preprocessor.fit_transform(X_clean)\n",
    "feature_names = preprocessor.get_feature_names_out()\n",
    "\n",
    "\n",
    "final_df = pd.DataFrame(transformed, columns=feature_names) # type: ignore\n"
   ]
  },
  {
   "cell_type": "markdown",
   "id": "1f552bd2",
   "metadata": {},
   "source": [
    "Let's use a baseline model first:"
   ]
  },
  {
   "cell_type": "code",
   "execution_count": 45,
   "id": "3274cea2",
   "metadata": {},
   "outputs": [
    {
     "name": "stdout",
     "output_type": "stream",
     "text": [
      "Model Performance (CV): $35,433.85 (+/- $16,530.80)\n",
      "Percentage Error (CV): 19.59% (+/- 9.14%)\n",
      "Target variable mean: $180,921.20\n"
     ]
    }
   ],
   "source": [
    "from sklearn.model_selection import cross_val_score\n",
    "from sklearn.linear_model import LinearRegression\n",
    "\n",
    "lr_model = LinearRegression()\n",
    "# Use all your training data for CV\n",
    "cv_scores = cross_val_score(lr_model, final_df, y, cv=5, scoring='neg_mean_squared_error')\n",
    "cv_rmse = np.sqrt(-cv_scores)\n",
    "\n",
    "# Calculate percentage error\n",
    "mean_target = y.mean()\n",
    "cv_rmse_mean = cv_rmse.mean()\n",
    "cv_rmse_std = cv_rmse.std()\n",
    "\n",
    "# Calculate percentage error\n",
    "percentage_error = (cv_rmse_mean / mean_target) * 100\n",
    "percentage_error_std = (cv_rmse_std * 2 / mean_target) * 100\n",
    "\n",
    "print(f\"Model Performance (CV): ${cv_rmse_mean:,.2f} (+/- ${cv_rmse_std * 2:,.2f})\")\n",
    "print(f\"Percentage Error (CV): {percentage_error:.2f}% (+/- {percentage_error_std:.2f}%)\")\n",
    "print(f\"Target variable mean: ${mean_target:,.2f}\")"
   ]
  }
 ],
 "metadata": {
  "kernelspec": {
   "display_name": ".venv",
   "language": "python",
   "name": "python3"
  },
  "language_info": {
   "codemirror_mode": {
    "name": "ipython",
    "version": 3
   },
   "file_extension": ".py",
   "mimetype": "text/x-python",
   "name": "python",
   "nbconvert_exporter": "python",
   "pygments_lexer": "ipython3",
   "version": "3.11.11"
  }
 },
 "nbformat": 4,
 "nbformat_minor": 5
}
